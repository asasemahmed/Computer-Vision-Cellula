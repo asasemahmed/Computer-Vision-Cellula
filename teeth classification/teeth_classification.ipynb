{
  "nbformat": 4,
  "nbformat_minor": 0,
  "metadata": {
    "colab": {
      "provenance": [],
      "gpuType": "T4"
    },
    "kernelspec": {
      "name": "python3",
      "display_name": "Python 3"
    },
    "language_info": {
      "name": "python"
    },
    "accelerator": "GPU"
  },
  "cells": [
    {
      "cell_type": "code",
      "execution_count": 1,
      "metadata": {
        "colab": {
          "base_uri": "https://localhost:8080/"
        },
        "id": "3lFjPbFWMy9I",
        "outputId": "169e18bd-a03d-486e-9414-b77cfa399bf6"
      },
      "outputs": [
        {
          "output_type": "stream",
          "name": "stdout",
          "text": [
            "Mounted at /content/drive\n"
          ]
        }
      ],
      "source": [
        "from google.colab import drive\n",
        "drive.mount('/content/drive')"
      ]
    },
    {
      "cell_type": "code",
      "source": [
        "from zipfile import ZipFile\n",
        "zfile = ZipFile('/content/drive/MyDrive/cellula data/Teeth DataSet.zip')\n",
        "zfile.extractall('data')"
      ],
      "metadata": {
        "id": "jUwCI_F_NGg6"
      },
      "execution_count": 2,
      "outputs": []
    },
    {
      "cell_type": "code",
      "source": [
        "from tensorflow.keras.preprocessing.image import ImageDataGenerator\n",
        "from keras.layers import Dense, Dropout, Flatten, Conv2D, MaxPool2D, BatchNormalization, ReLU\n",
        "from keras.models import Sequential, Model\n",
        "from keras import layers, models\n",
        "import tensorflow as tf\n",
        "import numpy as np\n",
        "import os\n",
        "import shutil"
      ],
      "metadata": {
        "id": "b1j1OPQANYoB"
      },
      "execution_count": 1,
      "outputs": []
    },
    {
      "cell_type": "code",
      "source": [
        "import shutil\n",
        "\n",
        "shutil.move('/content/data/Teeth_Dataset/Testing/out', '/content')\n",
        "shutil.move('/content/data/Teeth_Dataset/Testing/output', '/content')\n",
        "shutil.move('/content/data/Teeth_Dataset/Testing/outputs', '/content')"
      ],
      "metadata": {
        "colab": {
          "base_uri": "https://localhost:8080/",
          "height": 35
        },
        "id": "3AWQDk0cOIXG",
        "outputId": "b60bc39b-8736-4075-a451-1219897bb738"
      },
      "execution_count": 4,
      "outputs": [
        {
          "output_type": "execute_result",
          "data": {
            "text/plain": [
              "'/content/outputs'"
            ],
            "application/vnd.google.colaboratory.intrinsic+json": {
              "type": "string"
            }
          },
          "metadata": {},
          "execution_count": 4
        }
      ]
    },
    {
      "cell_type": "markdown",
      "source": [
        "# Data Preprocessing"
      ],
      "metadata": {
        "id": "fXHBOuM_P9h7"
      }
    },
    {
      "cell_type": "code",
      "source": [
        "train_gen = ImageDataGenerator(rescale=1/255,\n",
        "                               horizontal_flip=True,\n",
        "                               zoom_range=0.3,\n",
        "                               rotation_range=0.3)\n",
        "\n",
        "test_gen = ImageDataGenerator(rescale=1/255)"
      ],
      "metadata": {
        "id": "dT0UAkgpNh63"
      },
      "execution_count": 2,
      "outputs": []
    },
    {
      "cell_type": "code",
      "source": [
        "train_data = train_gen.flow_from_directory('/content/data/Teeth_Dataset/Training',\n",
        "                                            class_mode='categorical',\n",
        "                                           target_size=(224, 224),\n",
        "                                           batch_size=32)\n",
        "\n",
        "test_data = test_gen.flow_from_directory('/content/data/Teeth_Dataset/Testing',\n",
        "                                            class_mode='categorical',\n",
        "                                           target_size=(224, 224),\n",
        "                                           batch_size=32)\n",
        "val_data = test_gen.flow_from_directory('/content/data/Teeth_Dataset/Validation',\n",
        "                                            class_mode='categorical',\n",
        "                                           target_size=(224, 224),\n",
        "                                           batch_size=32)"
      ],
      "metadata": {
        "colab": {
          "base_uri": "https://localhost:8080/"
        },
        "id": "gTyu7KlKORBl",
        "outputId": "17d5eaeb-9673-4035-930e-806a49950163"
      },
      "execution_count": 3,
      "outputs": [
        {
          "output_type": "stream",
          "name": "stdout",
          "text": [
            "Found 3087 images belonging to 7 classes.\n",
            "Found 1028 images belonging to 7 classes.\n",
            "Found 1028 images belonging to 7 classes.\n"
          ]
        }
      ]
    },
    {
      "cell_type": "markdown",
      "source": [
        "# Build the model"
      ],
      "metadata": {
        "id": "RhLbifPkP5oU"
      }
    },
    {
      "cell_type": "code",
      "source": [
        "def identity_block(x, filters, kernel_size=3):\n",
        "    f1, f2, f3 = filters\n",
        "\n",
        "    shortcut = x\n",
        "\n",
        "    x = layers.Conv2D(f1, (1, 1), padding='valid')(x)\n",
        "    x = layers.BatchNormalization()(x)\n",
        "    x = layers.Activation('relu')(x)\n",
        "\n",
        "    x = layers.Conv2D(f2, kernel_size, padding='same')(x)\n",
        "    x = layers.BatchNormalization()(x)\n",
        "    x = layers.Activation('relu')(x)\n",
        "\n",
        "    x = layers.Conv2D(f3, (1, 1), padding='valid')(x)\n",
        "    x = layers.BatchNormalization()(x)\n",
        "\n",
        "    x = layers.Add()([shortcut, x])\n",
        "    x = layers.Activation('relu')(x)\n",
        "\n",
        "    return x"
      ],
      "metadata": {
        "id": "EaemIDRsc-w7"
      },
      "execution_count": null,
      "outputs": []
    },
    {
      "cell_type": "code",
      "source": [
        "def conv_block(x, filters, kernel_size=3, stride=2):\n",
        "    f1, f2, f3 = filters\n",
        "\n",
        "    shortcut = x\n",
        "\n",
        "    x = layers.Conv2D(f1, (1, 1), strides=stride, padding='valid')(x)\n",
        "    x = layers.BatchNormalization()(x)\n",
        "    x = layers.Activation('relu')(x)\n",
        "\n",
        "    x = layers.Conv2D(f2, kernel_size, padding='same')(x)\n",
        "    x = layers.BatchNormalization()(x)\n",
        "    x = layers.Activation('relu')(x)\n",
        "\n",
        "    x = layers.Conv2D(f3, (1, 1), padding='valid')(x)\n",
        "    x = layers.BatchNormalization()(x)\n",
        "\n",
        "    shortcut = layers.Conv2D(f3, (1, 1), strides=stride, padding='valid')(shortcut)\n",
        "    shortcut = layers.BatchNormalization()(shortcut)\n",
        "\n",
        "    x = layers.Add()([shortcut, x])\n",
        "    x = layers.Activation('relu')(x)\n",
        "\n",
        "    return x"
      ],
      "metadata": {
        "id": "tccvhF4xdB3l"
      },
      "execution_count": null,
      "outputs": []
    },
    {
      "cell_type": "code",
      "source": [
        "def ResNet50(input_shape=(224, 224, 3), num_classes=7):\n",
        "    inputs = layers.Input(shape=input_shape)\n",
        "\n",
        "    x = layers.ZeroPadding2D(padding=(3, 3))(inputs)\n",
        "\n",
        "    # 1\n",
        "    x = layers.Conv2D(64, (7, 7), strides=(2, 2))(x)\n",
        "    x = layers.BatchNormalization()(x)\n",
        "    x = layers.Activation('relu')(x)\n",
        "    x = layers.MaxPooling2D((3, 3), strides=(2, 2))(x)\n",
        "\n",
        "    # 2\n",
        "    x = conv_block(x, [64, 64, 256], kernel_size=3, stride=1)\n",
        "    x = identity_block(x, [64, 64, 256], kernel_size=3)\n",
        "    x = identity_block(x, [64, 64, 256], kernel_size=3)\n",
        "\n",
        "    # 3\n",
        "    x = conv_block(x, [128, 128, 512], kernel_size=3, stride=2)\n",
        "    x = identity_block(x, [128, 128, 512], kernel_size=3)\n",
        "    x = identity_block(x, [128, 128, 512], kernel_size=3)\n",
        "    x = identity_block(x, [128, 128, 512], kernel_size=3)\n",
        "\n",
        "    # 4\n",
        "    x = conv_block(x, [256, 256, 1024], kernel_size=3, stride=2)\n",
        "    x = identity_block(x, [256, 256, 1024], kernel_size=3)\n",
        "    x = identity_block(x, [256, 256, 1024], kernel_size=3)\n",
        "    x = identity_block(x, [256, 256, 1024], kernel_size=3)\n",
        "    x = identity_block(x, [256, 256, 1024], kernel_size=3)\n",
        "    x = identity_block(x, [256, 256, 1024], kernel_size=3)\n",
        "\n",
        "    # 5\n",
        "    x = conv_block(x, [512, 512, 2048], kernel_size=3, stride=2)\n",
        "    x = identity_block(x, [512, 512, 2048], kernel_size=3)\n",
        "    x = identity_block(x, [512, 512, 2048], kernel_size=3)\n",
        "\n",
        "    x = layers.GlobalAveragePooling2D()(x)\n",
        "    x = layers.Dense(num_classes, activation='softmax')(x)\n",
        "\n",
        "    model = Model(inputs=inputs, outputs=x, name='ResNet50')\n",
        "    return model\n",
        "\n",
        "\n",
        "model = ResNet50()\n",
        "model.compile(optimizer='adam', loss='categorical_crossentropy', metrics=['accuracy'])\n",
        "model.summary()"
      ],
      "metadata": {
        "id": "nFG57SAaTjmw"
      },
      "execution_count": null,
      "outputs": []
    },
    {
      "cell_type": "code",
      "source": [
        "hist = model.fit(train_data, epochs=50, validation_data=val_data, batch_size=32)"
      ],
      "metadata": {
        "colab": {
          "base_uri": "https://localhost:8080/"
        },
        "id": "kAoqoPqkQ5NM",
        "outputId": "e2fa96ef-4681-4f0c-ee1e-e0a2e8a332c6"
      },
      "execution_count": 17,
      "outputs": [
        {
          "output_type": "stream",
          "name": "stdout",
          "text": [
            "Epoch 1/50\n",
            "\u001b[1m97/97\u001b[0m \u001b[32m━━━━━━━━━━━━━━━━━━━━\u001b[0m\u001b[37m\u001b[0m \u001b[1m143s\u001b[0m 827ms/step - accuracy: 0.2636 - loss: 2.7201 - val_accuracy: 0.1576 - val_loss: 2.5889\n",
            "Epoch 2/50\n",
            "\u001b[1m97/97\u001b[0m \u001b[32m━━━━━━━━━━━━━━━━━━━━\u001b[0m\u001b[37m\u001b[0m \u001b[1m81s\u001b[0m 507ms/step - accuracy: 0.3788 - loss: 1.6889 - val_accuracy: 0.1449 - val_loss: 3.9467\n",
            "Epoch 3/50\n",
            "\u001b[1m97/97\u001b[0m \u001b[32m━━━━━━━━━━━━━━━━━━━━\u001b[0m\u001b[37m\u001b[0m \u001b[1m82s\u001b[0m 502ms/step - accuracy: 0.4003 - loss: 1.6572 - val_accuracy: 0.1975 - val_loss: 2.6784\n",
            "Epoch 4/50\n",
            "\u001b[1m97/97\u001b[0m \u001b[32m━━━━━━━━━━━━━━━━━━━━\u001b[0m\u001b[37m\u001b[0m \u001b[1m83s\u001b[0m 511ms/step - accuracy: 0.4511 - loss: 1.5089 - val_accuracy: 0.2247 - val_loss: 2.4846\n",
            "Epoch 5/50\n",
            "\u001b[1m97/97\u001b[0m \u001b[32m━━━━━━━━━━━━━━━━━━━━\u001b[0m\u001b[37m\u001b[0m \u001b[1m51s\u001b[0m 500ms/step - accuracy: 0.4892 - loss: 1.3304 - val_accuracy: 0.2909 - val_loss: 2.2624\n",
            "Epoch 6/50\n",
            "\u001b[1m97/97\u001b[0m \u001b[32m━━━━━━━━━━━━━━━━━━━━\u001b[0m\u001b[37m\u001b[0m \u001b[1m50s\u001b[0m 483ms/step - accuracy: 0.5697 - loss: 1.1916 - val_accuracy: 0.2189 - val_loss: 4.9319\n",
            "Epoch 7/50\n",
            "\u001b[1m97/97\u001b[0m \u001b[32m━━━━━━━━━━━━━━━━━━━━\u001b[0m\u001b[37m\u001b[0m \u001b[1m81s\u001b[0m 484ms/step - accuracy: 0.6234 - loss: 1.0707 - val_accuracy: 0.2228 - val_loss: 3.0416\n",
            "Epoch 8/50\n",
            "\u001b[1m97/97\u001b[0m \u001b[32m━━━━━━━━━━━━━━━━━━━━\u001b[0m\u001b[37m\u001b[0m \u001b[1m85s\u001b[0m 511ms/step - accuracy: 0.6279 - loss: 1.0288 - val_accuracy: 0.4163 - val_loss: 2.0959\n",
            "Epoch 9/50\n",
            "\u001b[1m97/97\u001b[0m \u001b[32m━━━━━━━━━━━━━━━━━━━━\u001b[0m\u001b[37m\u001b[0m \u001b[1m82s\u001b[0m 509ms/step - accuracy: 0.6484 - loss: 0.9214 - val_accuracy: 0.3123 - val_loss: 3.3601\n",
            "Epoch 10/50\n",
            "\u001b[1m97/97\u001b[0m \u001b[32m━━━━━━━━━━━━━━━━━━━━\u001b[0m\u001b[37m\u001b[0m \u001b[1m81s\u001b[0m 488ms/step - accuracy: 0.6741 - loss: 0.9025 - val_accuracy: 0.2977 - val_loss: 4.2518\n",
            "Epoch 11/50\n",
            "\u001b[1m97/97\u001b[0m \u001b[32m━━━━━━━━━━━━━━━━━━━━\u001b[0m\u001b[37m\u001b[0m \u001b[1m49s\u001b[0m 485ms/step - accuracy: 0.7005 - loss: 0.8152 - val_accuracy: 0.3696 - val_loss: 3.3198\n",
            "Epoch 12/50\n",
            "\u001b[1m97/97\u001b[0m \u001b[32m━━━━━━━━━━━━━━━━━━━━\u001b[0m\u001b[37m\u001b[0m \u001b[1m50s\u001b[0m 485ms/step - accuracy: 0.7421 - loss: 0.7417 - val_accuracy: 0.2354 - val_loss: 4.3694\n",
            "Epoch 13/50\n",
            "\u001b[1m97/97\u001b[0m \u001b[32m━━━━━━━━━━━━━━━━━━━━\u001b[0m\u001b[37m\u001b[0m \u001b[1m82s\u001b[0m 487ms/step - accuracy: 0.7502 - loss: 0.7181 - val_accuracy: 0.2403 - val_loss: 4.7675\n",
            "Epoch 14/50\n",
            "\u001b[1m97/97\u001b[0m \u001b[32m━━━━━━━━━━━━━━━━━━━━\u001b[0m\u001b[37m\u001b[0m \u001b[1m82s\u001b[0m 485ms/step - accuracy: 0.7629 - loss: 0.6755 - val_accuracy: 0.3317 - val_loss: 5.1396\n",
            "Epoch 15/50\n",
            "\u001b[1m97/97\u001b[0m \u001b[32m━━━━━━━━━━━━━━━━━━━━\u001b[0m\u001b[37m\u001b[0m \u001b[1m49s\u001b[0m 486ms/step - accuracy: 0.7613 - loss: 0.6647 - val_accuracy: 0.3366 - val_loss: 3.8847\n",
            "Epoch 16/50\n",
            "\u001b[1m97/97\u001b[0m \u001b[32m━━━━━━━━━━━━━━━━━━━━\u001b[0m\u001b[37m\u001b[0m \u001b[1m82s\u001b[0m 489ms/step - accuracy: 0.8044 - loss: 0.5713 - val_accuracy: 0.4942 - val_loss: 1.8975\n",
            "Epoch 17/50\n",
            "\u001b[1m97/97\u001b[0m \u001b[32m━━━━━━━━━━━━━━━━━━━━\u001b[0m\u001b[37m\u001b[0m \u001b[1m50s\u001b[0m 483ms/step - accuracy: 0.7856 - loss: 0.6265 - val_accuracy: 0.6372 - val_loss: 1.2573\n",
            "Epoch 18/50\n",
            "\u001b[1m97/97\u001b[0m \u001b[32m━━━━━━━━━━━━━━━━━━━━\u001b[0m\u001b[37m\u001b[0m \u001b[1m50s\u001b[0m 490ms/step - accuracy: 0.8200 - loss: 0.4899 - val_accuracy: 0.2626 - val_loss: 7.1585\n",
            "Epoch 19/50\n",
            "\u001b[1m97/97\u001b[0m \u001b[32m━━━━━━━━━━━━━━━━━━━━\u001b[0m\u001b[37m\u001b[0m \u001b[1m82s\u001b[0m 490ms/step - accuracy: 0.8338 - loss: 0.4589 - val_accuracy: 0.2733 - val_loss: 4.1272\n",
            "Epoch 20/50\n",
            "\u001b[1m97/97\u001b[0m \u001b[32m━━━━━━━━━━━━━━━━━━━━\u001b[0m\u001b[37m\u001b[0m \u001b[1m82s\u001b[0m 489ms/step - accuracy: 0.8331 - loss: 0.4606 - val_accuracy: 0.5739 - val_loss: 1.8442\n",
            "Epoch 21/50\n",
            "\u001b[1m97/97\u001b[0m \u001b[32m━━━━━━━━━━━━━━━━━━━━\u001b[0m\u001b[37m\u001b[0m \u001b[1m82s\u001b[0m 481ms/step - accuracy: 0.8522 - loss: 0.4182 - val_accuracy: 0.7257 - val_loss: 0.9263\n",
            "Epoch 22/50\n",
            "\u001b[1m97/97\u001b[0m \u001b[32m━━━━━━━━━━━━━━━━━━━━\u001b[0m\u001b[37m\u001b[0m \u001b[1m50s\u001b[0m 489ms/step - accuracy: 0.8769 - loss: 0.3519 - val_accuracy: 0.4776 - val_loss: 2.5635\n",
            "Epoch 23/50\n",
            "\u001b[1m97/97\u001b[0m \u001b[32m━━━━━━━━━━━━━━━━━━━━\u001b[0m\u001b[37m\u001b[0m \u001b[1m49s\u001b[0m 482ms/step - accuracy: 0.8768 - loss: 0.3468 - val_accuracy: 0.6615 - val_loss: 1.1007\n",
            "Epoch 24/50\n",
            "\u001b[1m97/97\u001b[0m \u001b[32m━━━━━━━━━━━━━━━━━━━━\u001b[0m\u001b[37m\u001b[0m \u001b[1m49s\u001b[0m 485ms/step - accuracy: 0.8945 - loss: 0.2837 - val_accuracy: 0.6673 - val_loss: 1.1374\n",
            "Epoch 25/50\n",
            "\u001b[1m97/97\u001b[0m \u001b[32m━━━━━━━━━━━━━━━━━━━━\u001b[0m\u001b[37m\u001b[0m \u001b[1m50s\u001b[0m 488ms/step - accuracy: 0.9035 - loss: 0.2916 - val_accuracy: 0.7072 - val_loss: 0.9195\n",
            "Epoch 26/50\n",
            "\u001b[1m97/97\u001b[0m \u001b[32m━━━━━━━━━━━━━━━━━━━━\u001b[0m\u001b[37m\u001b[0m \u001b[1m82s\u001b[0m 490ms/step - accuracy: 0.8324 - loss: 0.4513 - val_accuracy: 0.3375 - val_loss: 4.5977\n",
            "Epoch 27/50\n",
            "\u001b[1m97/97\u001b[0m \u001b[32m━━━━━━━━━━━━━━━━━━━━\u001b[0m\u001b[37m\u001b[0m \u001b[1m82s\u001b[0m 490ms/step - accuracy: 0.8831 - loss: 0.3336 - val_accuracy: 0.3444 - val_loss: 5.5459\n",
            "Epoch 28/50\n",
            "\u001b[1m97/97\u001b[0m \u001b[32m━━━━━━━━━━━━━━━━━━━━\u001b[0m\u001b[37m\u001b[0m \u001b[1m49s\u001b[0m 484ms/step - accuracy: 0.8974 - loss: 0.2872 - val_accuracy: 0.3074 - val_loss: 12.2307\n",
            "Epoch 29/50\n",
            "\u001b[1m97/97\u001b[0m \u001b[32m━━━━━━━━━━━━━━━━━━━━\u001b[0m\u001b[37m\u001b[0m \u001b[1m82s\u001b[0m 488ms/step - accuracy: 0.9044 - loss: 0.2650 - val_accuracy: 0.4319 - val_loss: 3.2439\n",
            "Epoch 30/50\n",
            "\u001b[1m97/97\u001b[0m \u001b[32m━━━━━━━━━━━━━━━━━━━━\u001b[0m\u001b[37m\u001b[0m \u001b[1m82s\u001b[0m 491ms/step - accuracy: 0.9110 - loss: 0.2608 - val_accuracy: 0.4621 - val_loss: 3.3104\n",
            "Epoch 31/50\n",
            "\u001b[1m97/97\u001b[0m \u001b[32m━━━━━━━━━━━━━━━━━━━━\u001b[0m\u001b[37m\u001b[0m \u001b[1m50s\u001b[0m 490ms/step - accuracy: 0.8902 - loss: 0.3189 - val_accuracy: 0.5603 - val_loss: 1.7598\n",
            "Epoch 32/50\n",
            "\u001b[1m97/97\u001b[0m \u001b[32m━━━━━━━━━━━━━━━━━━━━\u001b[0m\u001b[37m\u001b[0m \u001b[1m81s\u001b[0m 487ms/step - accuracy: 0.9195 - loss: 0.2348 - val_accuracy: 0.7792 - val_loss: 0.7340\n",
            "Epoch 33/50\n",
            "\u001b[1m97/97\u001b[0m \u001b[32m━━━━━━━━━━━━━━━━━━━━\u001b[0m\u001b[37m\u001b[0m \u001b[1m82s\u001b[0m 485ms/step - accuracy: 0.9404 - loss: 0.1856 - val_accuracy: 0.6323 - val_loss: 1.6028\n",
            "Epoch 34/50\n",
            "\u001b[1m97/97\u001b[0m \u001b[32m━━━━━━━━━━━━━━━━━━━━\u001b[0m\u001b[37m\u001b[0m \u001b[1m84s\u001b[0m 512ms/step - accuracy: 0.9236 - loss: 0.2291 - val_accuracy: 0.4125 - val_loss: 2.9835\n",
            "Epoch 35/50\n",
            "\u001b[1m97/97\u001b[0m \u001b[32m━━━━━━━━━━━━━━━━━━━━\u001b[0m\u001b[37m\u001b[0m \u001b[1m80s\u001b[0m 489ms/step - accuracy: 0.9258 - loss: 0.2108 - val_accuracy: 0.6158 - val_loss: 2.1801\n",
            "Epoch 36/50\n",
            "\u001b[1m97/97\u001b[0m \u001b[32m━━━━━━━━━━━━━━━━━━━━\u001b[0m\u001b[37m\u001b[0m \u001b[1m50s\u001b[0m 482ms/step - accuracy: 0.9521 - loss: 0.1456 - val_accuracy: 0.8444 - val_loss: 0.4864\n",
            "Epoch 37/50\n",
            "\u001b[1m97/97\u001b[0m \u001b[32m━━━━━━━━━━━━━━━━━━━━\u001b[0m\u001b[37m\u001b[0m \u001b[1m82s\u001b[0m 484ms/step - accuracy: 0.9408 - loss: 0.1641 - val_accuracy: 0.4543 - val_loss: 4.5403\n",
            "Epoch 38/50\n",
            "\u001b[1m97/97\u001b[0m \u001b[32m━━━━━━━━━━━━━━━━━━━━\u001b[0m\u001b[37m\u001b[0m \u001b[1m50s\u001b[0m 482ms/step - accuracy: 0.9456 - loss: 0.1795 - val_accuracy: 0.7889 - val_loss: 0.6496\n",
            "Epoch 39/50\n",
            "\u001b[1m97/97\u001b[0m \u001b[32m━━━━━━━━━━━━━━━━━━━━\u001b[0m\u001b[37m\u001b[0m \u001b[1m82s\u001b[0m 482ms/step - accuracy: 0.9309 - loss: 0.2158 - val_accuracy: 0.7247 - val_loss: 0.9793\n",
            "Epoch 40/50\n",
            "\u001b[1m97/97\u001b[0m \u001b[32m━━━━━━━━━━━━━━━━━━━━\u001b[0m\u001b[37m\u001b[0m \u001b[1m83s\u001b[0m 485ms/step - accuracy: 0.9356 - loss: 0.1906 - val_accuracy: 0.2977 - val_loss: 7.8872\n",
            "Epoch 41/50\n",
            "\u001b[1m97/97\u001b[0m \u001b[32m━━━━━━━━━━━━━━━━━━━━\u001b[0m\u001b[37m\u001b[0m \u001b[1m82s\u001b[0m 482ms/step - accuracy: 0.9227 - loss: 0.2470 - val_accuracy: 0.5934 - val_loss: 2.6944\n",
            "Epoch 42/50\n",
            "\u001b[1m97/97\u001b[0m \u001b[32m━━━━━━━━━━━━━━━━━━━━\u001b[0m\u001b[37m\u001b[0m \u001b[1m82s\u001b[0m 486ms/step - accuracy: 0.9483 - loss: 0.1595 - val_accuracy: 0.4300 - val_loss: 4.0800\n",
            "Epoch 43/50\n",
            "\u001b[1m97/97\u001b[0m \u001b[32m━━━━━━━━━━━━━━━━━━━━\u001b[0m\u001b[37m\u001b[0m \u001b[1m81s\u001b[0m 489ms/step - accuracy: 0.9339 - loss: 0.1998 - val_accuracy: 0.8045 - val_loss: 1.5162\n",
            "Epoch 44/50\n",
            "\u001b[1m97/97\u001b[0m \u001b[32m━━━━━━━━━━━━━━━━━━━━\u001b[0m\u001b[37m\u001b[0m \u001b[1m50s\u001b[0m 490ms/step - accuracy: 0.9547 - loss: 0.1377 - val_accuracy: 0.7889 - val_loss: 0.6719\n",
            "Epoch 45/50\n",
            "\u001b[1m97/97\u001b[0m \u001b[32m━━━━━━━━━━━━━━━━━━━━\u001b[0m\u001b[37m\u001b[0m \u001b[1m50s\u001b[0m 488ms/step - accuracy: 0.9590 - loss: 0.1507 - val_accuracy: 0.5710 - val_loss: 2.3609\n",
            "Epoch 46/50\n",
            "\u001b[1m97/97\u001b[0m \u001b[32m━━━━━━━━━━━━━━━━━━━━\u001b[0m\u001b[37m\u001b[0m \u001b[1m84s\u001b[0m 513ms/step - accuracy: 0.9460 - loss: 0.1605 - val_accuracy: 0.7325 - val_loss: 1.1403\n",
            "Epoch 47/50\n",
            "\u001b[1m97/97\u001b[0m \u001b[32m━━━━━━━━━━━━━━━━━━━━\u001b[0m\u001b[37m\u001b[0m \u001b[1m79s\u001b[0m 486ms/step - accuracy: 0.9493 - loss: 0.1646 - val_accuracy: 0.5730 - val_loss: 2.5878\n",
            "Epoch 48/50\n",
            "\u001b[1m97/97\u001b[0m \u001b[32m━━━━━━━━━━━━━━━━━━━━\u001b[0m\u001b[37m\u001b[0m \u001b[1m85s\u001b[0m 514ms/step - accuracy: 0.9645 - loss: 0.0908 - val_accuracy: 0.4319 - val_loss: 4.9090\n",
            "Epoch 49/50\n",
            "\u001b[1m97/97\u001b[0m \u001b[32m━━━━━━━━━━━━━━━━━━━━\u001b[0m\u001b[37m\u001b[0m \u001b[1m49s\u001b[0m 483ms/step - accuracy: 0.9284 - loss: 0.2322 - val_accuracy: 0.5866 - val_loss: 2.0600\n",
            "Epoch 50/50\n",
            "\u001b[1m97/97\u001b[0m \u001b[32m━━━━━━━━━━━━━━━━━━━━\u001b[0m\u001b[37m\u001b[0m \u001b[1m82s\u001b[0m 486ms/step - accuracy: 0.9487 - loss: 0.1548 - val_accuracy: 0.7053 - val_loss: 1.3041\n"
          ]
        }
      ]
    },
    {
      "cell_type": "code",
      "source": [
        "model.evaluate(test_data)"
      ],
      "metadata": {
        "colab": {
          "base_uri": "https://localhost:8080/"
        },
        "id": "LLla1eKzqADT",
        "outputId": "b1716d55-5d01-41a6-deed-b983539f44d9"
      },
      "execution_count": 22,
      "outputs": [
        {
          "output_type": "stream",
          "name": "stdout",
          "text": [
            "\r\u001b[1m 1/33\u001b[0m \u001b[37m━━━━━━━━━━━━━━━━━━━━\u001b[0m \u001b[1m10s\u001b[0m 325ms/step - accuracy: 0.7188 - loss: 0.7624"
          ]
        },
        {
          "output_type": "stream",
          "name": "stderr",
          "text": [
            "/usr/local/lib/python3.10/dist-packages/keras/src/trainers/data_adapters/py_dataset_adapter.py:121: UserWarning: Your `PyDataset` class should call `super().__init__(**kwargs)` in its constructor. `**kwargs` can include `workers`, `use_multiprocessing`, `max_queue_size`. Do not pass these arguments to `fit()`, as they will be ignored.\n",
            "  self._warn_if_super_not_called()\n"
          ]
        },
        {
          "output_type": "stream",
          "name": "stdout",
          "text": [
            "\u001b[1m33/33\u001b[0m \u001b[32m━━━━━━━━━━━━━━━━━━━━\u001b[0m\u001b[37m\u001b[0m \u001b[1m3s\u001b[0m 88ms/step - accuracy: 0.6885 - loss: 1.2122\n"
          ]
        },
        {
          "output_type": "execute_result",
          "data": {
            "text/plain": [
              "[1.2126647233963013, 0.698443591594696]"
            ]
          },
          "metadata": {},
          "execution_count": 22
        }
      ]
    },
    {
      "cell_type": "code",
      "source": [
        "model.save('teeth.keras')"
      ],
      "metadata": {
        "id": "7A5T1qXzpSjM"
      },
      "execution_count": 19,
      "outputs": []
    },
    {
      "cell_type": "code",
      "source": [
        "shutil.move('/content/teeth.h5', '/content/drive/MyDrive/cellula data')\n",
        "shutil.move('/content/teeth.keras', '/content/drive/MyDrive/cellula data')"
      ],
      "metadata": {
        "colab": {
          "base_uri": "https://localhost:8080/",
          "height": 35
        },
        "id": "_3BzuLcVpYbl",
        "outputId": "5160b59d-a330-4ca5-f46c-67c8b96c009b"
      },
      "execution_count": 21,
      "outputs": [
        {
          "output_type": "execute_result",
          "data": {
            "text/plain": [
              "'/content/drive/MyDrive/cellula data/teeth.keras'"
            ],
            "application/vnd.google.colaboratory.intrinsic+json": {
              "type": "string"
            }
          },
          "metadata": {},
          "execution_count": 21
        }
      ]
    },
    {
      "cell_type": "code",
      "source": [],
      "metadata": {
        "id": "xFbSxU6ipij2"
      },
      "execution_count": null,
      "outputs": []
    }
  ]
}